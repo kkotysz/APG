{
 "cells": [
  {
   "cell_type": "markdown",
   "metadata": {},
   "source": [
    "# Lista nr 2"
   ]
  },
  {
   "cell_type": "code",
   "execution_count": 2,
   "metadata": {},
   "outputs": [],
   "source": [
    "import numpy as np\n",
    "import astropy.units as u\n",
    "import astropy as ap"
   ]
  },
  {
   "cell_type": "markdown",
   "metadata": {},
   "source": [
    "## Zadanie nr 1"
   ]
  },
  {
   "cell_type": "markdown",
   "metadata": {},
   "source": [
    "<font size=5>\n",
    "    Ziemia - Księżyc: 384 400 km<br>\n",
    "    Ziemia - Słońce: 149.6 mln km<br>\n",
    "    Ziemia - Mars: 227.9 mln km<br>\n",
    "    Ziemia - Voyager: 22 749 400 000 km"
   ]
  },
  {
   "cell_type": "code",
   "execution_count": 3,
   "metadata": {},
   "outputs": [],
   "source": [
    "earth_moon    = 384400.*u.km\n",
    "earth_sun     = 149.6e6*u.km\n",
    "earth_mars    = 227.9e6*u.km-1*u.au # odejmujemy 1 jednostkę astronomiczną\n",
    "earth_voyager = 22749.4e6*u.km"
   ]
  },
  {
   "cell_type": "markdown",
   "metadata": {},
   "source": [
    "<font size=5>\n",
    "    $t=\\frac{d}{c}$<br>\n",
    "    $d$ - odległość<br>\n",
    "    $c$ - prędkość światła  $= 3\\cdot10^8 \\frac{m}{s}$"
   ]
  },
  {
   "cell_type": "code",
   "execution_count": 5,
   "metadata": {},
   "outputs": [],
   "source": [
    "def light_travel_time(distance):\n",
    "    return distance/ap.constants.c"
   ]
  },
  {
   "cell_type": "code",
   "execution_count": 6,
   "metadata": {},
   "outputs": [
    {
     "data": {
      "text/latex": [
       "$1.2822204 \\; \\mathrm{s}$"
      ],
      "text/plain": [
       "<Quantity 1.28222038 s>"
      ]
     },
     "execution_count": 6,
     "metadata": {},
     "output_type": "execute_result"
    }
   ],
   "source": [
    "light_travel_time(earth_moon).to(\"second\") # Ziemia - Księżyc"
   ]
  },
  {
   "cell_type": "code",
   "execution_count": 7,
   "metadata": {},
   "outputs": [
    {
     "data": {
      "text/latex": [
       "$8.3168648 \\; \\mathrm{min}$"
      ],
      "text/plain": [
       "<Quantity 8.31686477 min>"
      ]
     },
     "execution_count": 7,
     "metadata": {},
     "output_type": "execute_result"
    }
   ],
   "source": [
    "light_travel_time(earth_sun).to(\"minute\") # Ziemia - Słońce"
   ]
  },
  {
   "cell_type": "code",
   "execution_count": 8,
   "metadata": {},
   "outputs": [
    {
     "data": {
      "text/latex": [
       "$4.3531298 \\; \\mathrm{min}$"
      ],
      "text/plain": [
       "<Quantity 4.35312982 min>"
      ]
     },
     "execution_count": 8,
     "metadata": {},
     "output_type": "execute_result"
    }
   ],
   "source": [
    "light_travel_time(earth_mars).to(\"minute\")  # Ziemia - Mars"
   ]
  },
  {
   "cell_type": "code",
   "execution_count": 24,
   "metadata": {},
   "outputs": [
    {
     "data": {
      "text/latex": [
       "$21.078842 \\; \\mathrm{h}$"
      ],
      "text/plain": [
       "<Quantity 21.07884174 h>"
      ]
     },
     "execution_count": 24,
     "metadata": {},
     "output_type": "execute_result"
    }
   ],
   "source": [
    "light_travel_time(earth_voyager).to(\"hour\") # Ziemia - Voyager 1"
   ]
  },
  {
   "cell_type": "markdown",
   "metadata": {},
   "source": [
    "## Zadanie nr 2"
   ]
  },
  {
   "cell_type": "markdown",
   "metadata": {},
   "source": [
    "<font size=5>\n",
    "<div>\n",
    "<img src=\"proxima.gif\" width=\"40%\"/>\n",
    "<img src=\"geo.png\" width=\"40%\"/>\n",
    "<!-- <img src=\"stellar.png\" width=\"30%\"/> -->\n",
    "</div>\n",
    "<br><br>\n",
    "Słońce $\\rightarrow \\frac{\\theta_\\odot}{2} = 15'.99, \\pi=8''.78$<br>\n",
    "Księżyc $\\rightarrow \\frac{\\theta_{moon}}{2} = 15'.53, \\pi=56'.98$<br><br>\n",
    "(1) $\\frac{sin(p)}{r_E} = \\frac{sin(90^\\circ+H_{topo})}{d_{EM}}$, gdzie paralaksa jest największa dla $H_{topo} = 0^\\circ$\n",
    "<br><br>\n",
    "<div>\n",
    "<img src=\"angular.jpg\" width=\"40%\"/>\n",
    "</div>\n",
    "(2) $\\frac{r_M}{d_{EM}}=\\tan(\\frac{\\theta}{2})\\rightarrow (3) d_{EM} = \\frac{r_M}{\\tan(\\frac{\\theta}{2})}$<br><br>\n",
    "z (1) mamy:<br><br>\n",
    "(4) $d_{EM} = \\frac{r_E}{\\sin(\\pi)}$<br><br>\n",
    "porównując (3) z (4) dostaniemy w końcu:<br><br>\n",
    "$\\frac{r_M}{r_E}=\\frac{\\tan(\\frac{\\theta}{2})}{\\sin(\\pi)}$"
   ]
  },
  {
   "cell_type": "code",
   "execution_count": 4,
   "metadata": {},
   "outputs": [],
   "source": [
    "theta_sun = 2*15.99*u.arcmin\n",
    "plx_sun = 8.78*u.arcsec\n",
    "\n",
    "theta_moon = 2*15.53*u.arcmin\n",
    "plx_moon = 56.98*u.arcmin"
   ]
  },
  {
   "cell_type": "code",
   "execution_count": 5,
   "metadata": {},
   "outputs": [],
   "source": [
    "def relative_size(angular, parallax):\n",
    "    return np.tan(angular/2)/np.sin(parallax)"
   ]
  },
  {
   "cell_type": "code",
   "execution_count": 6,
   "metadata": {},
   "outputs": [
    {
     "data": {
      "text/latex": [
       "$109.27186 \\; \\mathrm{}$"
      ],
      "text/plain": [
       "<Quantity 109.27185867>"
      ]
     },
     "execution_count": 6,
     "metadata": {},
     "output_type": "execute_result"
    }
   ],
   "source": [
    "relative_size(theta_sun,plx_sun) # Słońce"
   ]
  },
  {
   "cell_type": "code",
   "execution_count": 7,
   "metadata": {},
   "outputs": [
    {
     "data": {
      "text/latex": [
       "$0.27256611 \\; \\mathrm{}$"
      ],
      "text/plain": [
       "<Quantity 0.27256611>"
      ]
     },
     "execution_count": 7,
     "metadata": {},
     "output_type": "execute_result"
    }
   ],
   "source": [
    "relative_size(theta_moon,plx_moon) # Księżyc"
   ]
  },
  {
   "cell_type": "markdown",
   "metadata": {},
   "source": [
    "## Zadanie nr 3"
   ]
  },
  {
   "cell_type": "markdown",
   "metadata": {},
   "source": [
    "<font size=5>\n",
    "    Księżyc <br><br>\n",
    "    $\\theta_{moon}: 14'.73 - 16'.42$<br><br>\n",
    "    $r_M=1737km$\n",
    "    <br><br><br>\n",
    "    $d_{EM} = \\frac{r_M}{\\tan(\\theta)}$"
   ]
  },
  {
   "cell_type": "code",
   "execution_count": 8,
   "metadata": {},
   "outputs": [],
   "source": [
    "r_m = 1737*u.km\n",
    "theta_moon1 = 14.73*u.arcmin\n",
    "theta_moon2 = 16.42*u.arcmin"
   ]
  },
  {
   "cell_type": "code",
   "execution_count": 9,
   "metadata": {},
   "outputs": [
    {
     "data": {
      "text/latex": [
       "$405385.58 \\; \\mathrm{km}$"
      ],
      "text/plain": [
       "<Quantity 405385.58026516 km>"
      ]
     },
     "execution_count": 9,
     "metadata": {},
     "output_type": "execute_result"
    }
   ],
   "source": [
    "r_m/np.tan(theta_moon1)  # Apogeum"
   ]
  },
  {
   "cell_type": "code",
   "execution_count": 10,
   "metadata": {},
   "outputs": [
    {
     "data": {
      "text/latex": [
       "$363661.43 \\; \\mathrm{km}$"
      ],
      "text/plain": [
       "<Quantity 363661.43305958 km>"
      ]
     },
     "execution_count": 10,
     "metadata": {},
     "output_type": "execute_result"
    }
   ],
   "source": [
    "r_m/np.tan(theta_moon2)  # Perygeum"
   ]
  },
  {
   "cell_type": "markdown",
   "metadata": {},
   "source": [
    "<div>\n",
    "<img src=\"moon.jpg\" width=\"50%\"/>\n",
    "</div>"
   ]
  },
  {
   "cell_type": "markdown",
   "metadata": {},
   "source": [
    "## Zadanie nr 4"
   ]
  },
  {
   "cell_type": "markdown",
   "metadata": {},
   "source": [
    "![venus](venus.png)"
   ]
  },
  {
   "cell_type": "markdown",
   "metadata": {},
   "source": [
    "<font size=5>\n",
    "$\\phi - elongacja$<br><br>\n",
    "$sin(\\phi) = \\frac{d_{VS}}{d_{ES}}\\rightarrow\\phi=\\arcsin(\\frac{d_{VS}}{d_{ES}})$"
   ]
  },
  {
   "cell_type": "code",
   "execution_count": 5,
   "metadata": {},
   "outputs": [],
   "source": [
    "def elongation(d_planet_sun, d_observer_sun):\n",
    "    return np.arcsin(d_planet_sun/d_observer_sun)"
   ]
  },
  {
   "cell_type": "code",
   "execution_count": 6,
   "metadata": {},
   "outputs": [
    {
     "data": {
      "text/latex": [
       "$46.325315 \\; \\mathrm{{}^{\\circ}}$"
      ],
      "text/plain": [
       "<Quantity 46.32531489 deg>"
      ]
     },
     "execution_count": 6,
     "metadata": {},
     "output_type": "execute_result"
    }
   ],
   "source": [
    "d_vs = 108.2e6*u.km\n",
    "elongation(d_vs, u.au).to(u.deg)"
   ]
  },
  {
   "cell_type": "code",
   "execution_count": 7,
   "metadata": {},
   "outputs": [
    {
     "data": {
      "text/latex": [
       "$28.413865 \\; \\mathrm{{}^{\\circ}}$"
      ],
      "text/plain": [
       "<Quantity 28.41386473 deg>"
      ]
     },
     "execution_count": 7,
     "metadata": {},
     "output_type": "execute_result"
    }
   ],
   "source": [
    "d_ms = 1.52*u.au\n",
    "elongation(d_vs,d_ms).to(u.deg)  # Max. elongacja Wenus widzianej z Marsa"
   ]
  },
  {
   "cell_type": "code",
   "execution_count": 8,
   "metadata": {},
   "outputs": [
    {
     "data": {
      "text/latex": [
       "$41.13951 \\; \\mathrm{{}^{\\circ}}$"
      ],
      "text/plain": [
       "<Quantity 41.13951041 deg>"
      ]
     },
     "execution_count": 8,
     "metadata": {},
     "output_type": "execute_result"
    }
   ],
   "source": [
    "elongation(u.au,d_ms).to(u.deg)  # Max. elongacja Ziemi widzianej z Marsa"
   ]
  },
  {
   "cell_type": "markdown",
   "metadata": {},
   "source": [
    "## Zadanie nr 5"
   ]
  },
  {
   "cell_type": "markdown",
   "metadata": {},
   "source": [
    "<font size=5>\n",
    "    $S=\\frac{1}{|\\frac{1}{E}-\\frac{1}{P}|}$<br><br>\n",
    "    $E$ - okres obiegu Ziemi wokół Słońca, $P$ - okres obiegu planety wokół Słońca\n",
    "    <br><br><br><br>\n",
    "    Odległość Wenus-Słońce:  D=0.723AU<br><br>\n",
    "    Odległość Ziemia-Słońce: D=1.000AU<br><br>\n",
    "    $P^2$ ~ $D^3$ - III. prawo Keplera<br><br>\n",
    "    E = 365.25 d $\\rightarrow$ P = E$\\cdot$D"
   ]
  },
  {
   "cell_type": "code",
   "execution_count": 12,
   "metadata": {},
   "outputs": [
    {
     "data": {
      "text/latex": [
       "$582.86669 \\; \\mathrm{d}$"
      ],
      "text/plain": [
       "<Quantity 582.8666931 d>"
      ]
     },
     "execution_count": 12,
     "metadata": {},
     "output_type": "execute_result"
    }
   ],
   "source": [
    "E = 365.25*u.d\n",
    "P = (0.723)**1.5*E\n",
    "1/np.abs(1/E-1/P)"
   ]
  },
  {
   "cell_type": "markdown",
   "metadata": {},
   "source": [
    "## Zadanie nr 6"
   ]
  },
  {
   "cell_type": "markdown",
   "metadata": {},
   "source": [
    "<font size=5>\n",
    "    $P^2$ ~ $D^3$ - III. prawo Keplera<br><br>\n",
    "    $\\frac{P_E^2}{D_E^3} = \\frac{P_P^2}{D_P^3}$<br><br>\n",
    "    $D_P = \\sqrt[3]{(\\frac{P_P}{P_E})^2}\\cdot D_E$<br><br>\n"
   ]
  },
  {
   "cell_type": "code",
   "execution_count": 15,
   "metadata": {},
   "outputs": [
    {
     "data": {
      "text/latex": [
       "$4.5971223 \\; \\mathrm{yr}$"
      ],
      "text/plain": [
       "<Quantity 4.5971223 yr>"
      ]
     },
     "execution_count": 15,
     "metadata": {},
     "output_type": "execute_result"
    }
   ],
   "source": [
    "S = 1.278*u.yr\n",
    "P = 1/np.abs((1/E-1/S))\n",
    "P.to(u.yr)"
   ]
  },
  {
   "cell_type": "code",
   "execution_count": 16,
   "metadata": {},
   "outputs": [
    {
     "data": {
      "text/latex": [
       "$2.7647596 \\; \\mathrm{AU}$"
      ],
      "text/plain": [
       "<Quantity 2.76475958 AU>"
      ]
     },
     "execution_count": 16,
     "metadata": {},
     "output_type": "execute_result"
    }
   ],
   "source": [
    "D=P.to(u.yr)**(2/3)\n",
    "D.value*u.au"
   ]
  },
  {
   "cell_type": "markdown",
   "metadata": {},
   "source": [
    "## Zadanie nr 7\n",
    "![seasons](seasons.png)"
   ]
  },
  {
   "cell_type": "code",
   "execution_count": null,
   "metadata": {},
   "outputs": [],
   "source": []
  }
 ],
 "metadata": {
  "kernelspec": {
   "display_name": "Python 3",
   "language": "python",
   "name": "python3"
  },
  "language_info": {
   "codemirror_mode": {
    "name": "ipython",
    "version": 3
   },
   "file_extension": ".py",
   "mimetype": "text/x-python",
   "name": "python",
   "nbconvert_exporter": "python",
   "pygments_lexer": "ipython3",
   "version": "3.8.3"
  }
 },
 "nbformat": 4,
 "nbformat_minor": 4
}
