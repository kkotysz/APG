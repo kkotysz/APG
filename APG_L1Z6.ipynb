{
 "cells": [
  {
   "cell_type": "markdown",
   "metadata": {},
   "source": [
    "# 1.6 - Model ewolucji wszechświata\n",
    "## T=24h to t=13.8 mld lat\n",
    "* powstanie pierwszych galaktyk i gwiazd: około 13.5-13.0 mld lat temu\n",
    "* powstanie Układu Słonecznego i Ziemi: około 4.57 mld lat temu\n",
    "* powstanie życia na Ziemi (najstarsze znane ślady): około 3.7 mld lat temu\n",
    "* pojawianie się życia złożonego wielokomórkowego: około 600 mln lat temu\n",
    "* wymieranie kredowe: około 66 mln lat temu\n",
    "* pojawienie się Homo Sapiens: około 300 tys. lat temu"
   ]
  },
  {
   "cell_type": "code",
   "execution_count": 1,
   "metadata": {},
   "outputs": [],
   "source": [
    "import numpy as np"
   ]
  },
  {
   "cell_type": "code",
   "execution_count": 71,
   "metadata": {},
   "outputs": [],
   "source": [
    "T = 24\n",
    "t = 13.8e9"
   ]
  },
  {
   "cell_type": "code",
   "execution_count": 72,
   "metadata": {},
   "outputs": [
    {
     "data": {
      "text/plain": [
       "575000000.0"
      ]
     },
     "execution_count": 72,
     "metadata": {},
     "output_type": "execute_result"
    }
   ],
   "source": [
    "eta = t/T\n",
    "eta"
   ]
  },
  {
   "cell_type": "code",
   "execution_count": 168,
   "metadata": {},
   "outputs": [],
   "source": [
    "def universe_in_time(time):\n",
    "    hour = time/eta\n",
    "    if int(hour) > 0:\n",
    "        minute = (hour%int(hour))*60\n",
    "    else:\n",
    "        minute = hour*60\n",
    "    if int(minute) > 0:\n",
    "        second = (minute%int(minute))*60\n",
    "    else:\n",
    "        second = minute*60\n",
    "    print(time/eta)\n",
    "    return f\"{int(hour):02d}:{int(minute):02d}:{second:05.2f}\""
   ]
  },
  {
   "cell_type": "code",
   "execution_count": 169,
   "metadata": {},
   "outputs": [
    {
     "name": "stdout",
     "output_type": "stream",
     "text": [
      "0.5217391304347826\n",
      "1.391304347826087\n"
     ]
    },
    {
     "data": {
      "text/plain": [
       "('00:31:18.26', '01:23:28.70')"
      ]
     },
     "execution_count": 169,
     "metadata": {},
     "output_type": "execute_result"
    }
   ],
   "source": [
    "faa = t - 13.5e9\n",
    "fab = t - 13e9\n",
    "universe_in_time(faa), universe_in_time(fab)"
   ]
  },
  {
   "cell_type": "code",
   "execution_count": 170,
   "metadata": {},
   "outputs": [
    {
     "name": "stdout",
     "output_type": "stream",
     "text": [
      "16.05217391304348\n"
     ]
    },
    {
     "data": {
      "text/plain": [
       "'16:03:07.83'"
      ]
     },
     "execution_count": 170,
     "metadata": {},
     "output_type": "execute_result"
    }
   ],
   "source": [
    "fb = t - 4.57e9\n",
    "universe_in_time(fb)"
   ]
  },
  {
   "cell_type": "code",
   "execution_count": 171,
   "metadata": {},
   "outputs": [
    {
     "name": "stdout",
     "output_type": "stream",
     "text": [
      "17.565217391304348\n"
     ]
    },
    {
     "data": {
      "text/plain": [
       "'17:33:54.78'"
      ]
     },
     "execution_count": 171,
     "metadata": {},
     "output_type": "execute_result"
    }
   ],
   "source": [
    "fc = t - 3.7e9\n",
    "universe_in_time(fc)"
   ]
  },
  {
   "cell_type": "code",
   "execution_count": 172,
   "metadata": {},
   "outputs": [
    {
     "name": "stdout",
     "output_type": "stream",
     "text": [
      "22.956521739130434\n"
     ]
    },
    {
     "data": {
      "text/plain": [
       "'22:57:23.48'"
      ]
     },
     "execution_count": 172,
     "metadata": {},
     "output_type": "execute_result"
    }
   ],
   "source": [
    "fd = t - 600e6\n",
    "universe_in_time(fd)"
   ]
  },
  {
   "cell_type": "code",
   "execution_count": 173,
   "metadata": {},
   "outputs": [
    {
     "name": "stdout",
     "output_type": "stream",
     "text": [
      "23.885217391304348\n"
     ]
    },
    {
     "data": {
      "text/plain": [
       "'23:53:06.78'"
      ]
     },
     "execution_count": 173,
     "metadata": {},
     "output_type": "execute_result"
    }
   ],
   "source": [
    "fe = t - 66e6\n",
    "universe_in_time(fe)"
   ]
  },
  {
   "cell_type": "code",
   "execution_count": 174,
   "metadata": {},
   "outputs": [
    {
     "name": "stdout",
     "output_type": "stream",
     "text": [
      "23.999478260869566\n"
     ]
    },
    {
     "data": {
      "text/plain": [
       "'23:59:58.12'"
      ]
     },
     "execution_count": 174,
     "metadata": {},
     "output_type": "execute_result"
    }
   ],
   "source": [
    "ff = t - 300e3\n",
    "universe_in_time(ff)"
   ]
  },
  {
   "cell_type": "code",
   "execution_count": null,
   "metadata": {},
   "outputs": [],
   "source": []
  }
 ],
 "metadata": {
  "kernelspec": {
   "display_name": "Python 3",
   "language": "python",
   "name": "python3"
  },
  "language_info": {
   "codemirror_mode": {
    "name": "ipython",
    "version": 3
   },
   "file_extension": ".py",
   "mimetype": "text/x-python",
   "name": "python",
   "nbconvert_exporter": "python",
   "pygments_lexer": "ipython3",
   "version": "3.8.3"
  }
 },
 "nbformat": 4,
 "nbformat_minor": 4
}
