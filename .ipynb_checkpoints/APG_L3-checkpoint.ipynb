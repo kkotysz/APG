{
 "cells": [
  {
   "cell_type": "markdown",
   "metadata": {},
   "source": [
    "# Lista nr 3"
   ]
  },
  {
   "cell_type": "code",
   "execution_count": 2,
   "metadata": {},
   "outputs": [],
   "source": [
    "import numpy as np\n",
    "import astropy.units as u\n",
    "import astropy as ap"
   ]
  },
  {
   "cell_type": "markdown",
   "metadata": {},
   "source": [
    "## Zadanie nr 1"
   ]
  },
  {
   "cell_type": "markdown",
   "metadata": {},
   "source": [
    "<font size=5>\n",
    "    Ziemia - Słońce: 147.1 - 152.1 mln km<br>\n",
    "    Promień Słońca: 696000 km <br><br>\n",
    "    $\\theta_{moon}: 14'.73 - 16'.42$<br><br>\n",
    "    $d = \\frac{r}{\\tan(\\theta)}\\rightarrow\\theta=\\arctan(\\frac{r}{d})$"
   ]
  },
  {
   "cell_type": "code",
   "execution_count": 7,
   "metadata": {},
   "outputs": [],
   "source": [
    "es_min = 147.1e6*u.km\n",
    "es_max = 152.1e6*u.km\n",
    "R_sun  = 696e3*u.km"
   ]
  },
  {
   "cell_type": "code",
   "execution_count": 14,
   "metadata": {},
   "outputs": [],
   "source": [
    "theta_min = np.arctan(R_sun/es_min).to(\"arcmin\")\n",
    "theta_max = np.arctan(R_sun/es_max).to(\"arcmin\")"
   ]
  },
  {
   "cell_type": "code",
   "execution_count": 19,
   "metadata": {},
   "outputs": [
    {
     "data": {
      "text/latex": [
       "$16.265492 \\; \\mathrm{{}^{\\prime}}$"
      ],
      "text/plain": [
       "<Quantity 16.26549217 arcmin>"
      ]
     },
     "execution_count": 19,
     "metadata": {},
     "output_type": "execute_result"
    }
   ],
   "source": [
    "theta_min # największy rozmiar kątowy"
   ]
  },
  {
   "cell_type": "code",
   "execution_count": 18,
   "metadata": {},
   "outputs": [
    {
     "data": {
      "text/latex": [
       "$15.730802 \\; \\mathrm{{}^{\\prime}}$"
      ],
      "text/plain": [
       "<Quantity 15.73080245 arcmin>"
      ]
     },
     "execution_count": 18,
     "metadata": {},
     "output_type": "execute_result"
    }
   ],
   "source": [
    "theta_max # najmniejszy rozmiar kątowy"
   ]
  },
  {
   "cell_type": "markdown",
   "metadata": {},
   "source": [
    "## Zadanie nr 2"
   ]
  },
  {
   "cell_type": "code",
   "execution_count": 334,
   "metadata": {},
   "outputs": [],
   "source": [
    "per     = 1*u.au     # Peryhelium (== orbita Ziemi)\n",
    "aph     = 1.52*u.au  # Aphelium (== orbita Marsa)\n",
    "a = (per+aph)/2      # Należy użyć wielkiej półosi w III. prawie Keplera\n",
    "P_earth = 365.25*u.d # Okres obiegu Ziemi wokół Słońca"
   ]
  },
  {
   "cell_type": "markdown",
   "metadata": {},
   "source": [
    "<font size=5>\n",
    "$P^2$ ~ $D^3$ - III. prawo Keplera<br><br>"
   ]
  },
  {
   "cell_type": "code",
   "execution_count": 335,
   "metadata": {},
   "outputs": [
    {
     "data": {
      "text/latex": [
       "$182.65933 \\; \\mathrm{d}$"
      ],
      "text/plain": [
       "<Quantity 182.6593335 d>"
      ]
     },
     "execution_count": 335,
     "metadata": {},
     "output_type": "execute_result"
    }
   ],
   "source": [
    "P_probe = P_earth*(a/per)**3/2\n",
    "P_probe/2"
   ]
  },
  {
   "cell_type": "markdown",
   "metadata": {},
   "source": [
    "## Zadanie nr 3"
   ]
  },
  {
   "cell_type": "markdown",
   "metadata": {},
   "source": [
    "<font size=5>\n",
    "$\\rho_{core}=8\\frac{g}{cm^3},$ $ $ $ $ $\\rho_{mantle}=3\\frac{g}{cm^3}$<br>\n",
    "Księżyc: $R = 1737 km$, $\\bar\\rho=3.3\\frac{g}{cm^3}$<br>\n",
    "Merkury: $R = 2440 km$, $\\bar\\rho=5.4\\frac{g}{cm^3}$<br>\n",
    "    \n",
    "$R_{core}=R\\cdot x$ <br>\n",
    "$M = \\bar\\rho \\cdot 4/3 \\cdot \\pi \\cdot R^3 = M_{core} + M_{mantle}$ <br>\n",
    "$M_{core} = \\rho_{core} \\cdot 4/3 \\cdot \\pi \\cdot R_{core}^3$ <br>\n",
    "$M_{mantle} = \\rho_{mantle} \\cdot 4/3 \\cdot \\pi (R^3 - R_{core}^3)$ <br>\n",
    "$\\bar\\rho \\cdot R^3 = \\rho_{core} \\cdot R^3\\cdot x^3 + \\rho_{mantle} \\cdot (R^3 - R^3\\cdot x^3)$ $ $ $ $ $ $ $ $ $/ R^3$<br>\n",
    "$\\bar\\rho = \\rho_{core} \\cdot x^3 + \\rho_{mantle} - \\rho_{mantle} \\cdot x^3$ <br>\n",
    "$x = \\sqrt[3]{\\frac{\\bar\\rho - \\rho_{mantle}}{\\rho_{core} - \\rho_{mantle}}}$"
   ]
  },
  {
   "cell_type": "code",
   "execution_count": 216,
   "metadata": {},
   "outputs": [],
   "source": [
    "r_moon      = 1737*u.km\n",
    "rho_moon    = 3.3*u.g/u.cm**3\n",
    "r_mercury   = 2440*u.km\n",
    "rho_mercury = 5.4*u.g/u.cm**3\n",
    "mantle      = 3*u.g/u.cm**3\n",
    "core        = 8*u.g/u.cm**3"
   ]
  },
  {
   "cell_type": "code",
   "execution_count": 320,
   "metadata": {},
   "outputs": [],
   "source": [
    "x_moon = ((rho_moon - mantle)/(core-mantle))**(1/3)\n",
    "x_mercury = ((rho_mercury - mantle)/(core-mantle))**(1/3)"
   ]
  },
  {
   "cell_type": "code",
   "execution_count": 321,
   "metadata": {},
   "outputs": [
    {
     "data": {
      "text/latex": [
       "$0.39148676 \\; \\mathrm{}$"
      ],
      "text/plain": [
       "<Quantity 0.39148676>"
      ]
     },
     "execution_count": 321,
     "metadata": {},
     "output_type": "execute_result"
    }
   ],
   "source": [
    "x_moon"
   ]
  },
  {
   "cell_type": "code",
   "execution_count": 322,
   "metadata": {},
   "outputs": [
    {
     "data": {
      "text/latex": [
       "$0.78297353 \\; \\mathrm{}$"
      ],
      "text/plain": [
       "<Quantity 0.78297353>"
      ]
     },
     "execution_count": 322,
     "metadata": {},
     "output_type": "execute_result"
    }
   ],
   "source": [
    "x_mercury"
   ]
  },
  {
   "cell_type": "code",
   "execution_count": 323,
   "metadata": {},
   "outputs": [
    {
     "data": {
      "text/latex": [
       "$680.01251 \\; \\mathrm{km}$"
      ],
      "text/plain": [
       "<Quantity 680.01250927 km>"
      ]
     },
     "execution_count": 323,
     "metadata": {},
     "output_type": "execute_result"
    }
   ],
   "source": [
    "x_moon*r_moon # Promień jądra Księżyca"
   ]
  },
  {
   "cell_type": "code",
   "execution_count": 324,
   "metadata": {},
   "outputs": [
    {
     "data": {
      "text/latex": [
       "$1056.9875 \\; \\mathrm{km}$"
      ],
      "text/plain": [
       "<Quantity 1056.98749073 km>"
      ]
     },
     "execution_count": 324,
     "metadata": {},
     "output_type": "execute_result"
    }
   ],
   "source": [
    "(1-x_moon)*r_moon # Rozmiar płaszcza Księżyca"
   ]
  },
  {
   "cell_type": "code",
   "execution_count": 325,
   "metadata": {},
   "outputs": [
    {
     "data": {
      "text/latex": [
       "$1910.4554 \\; \\mathrm{km}$"
      ],
      "text/plain": [
       "<Quantity 1910.45540889 km>"
      ]
     },
     "execution_count": 325,
     "metadata": {},
     "output_type": "execute_result"
    }
   ],
   "source": [
    "x_mercury*r_mercury # Promień jądra Merkurego"
   ]
  },
  {
   "cell_type": "code",
   "execution_count": 326,
   "metadata": {},
   "outputs": [
    {
     "data": {
      "text/latex": [
       "$529.54459 \\; \\mathrm{km}$"
      ],
      "text/plain": [
       "<Quantity 529.54459111 km>"
      ]
     },
     "execution_count": 326,
     "metadata": {},
     "output_type": "execute_result"
    }
   ],
   "source": [
    "(1-x_mercury)*r_mercury # Rozmiar płaszcza Merkurego"
   ]
  },
  {
   "cell_type": "markdown",
   "metadata": {},
   "source": [
    "## Zadanie nr 4"
   ]
  },
  {
   "cell_type": "code",
   "execution_count": 328,
   "metadata": {},
   "outputs": [
    {
     "data": {
      "text/latex": [
       "$1.078713 \\; \\mathrm{\\frac{cm}{yr}}$"
      ],
      "text/plain": [
       "<Quantity 1.07871298 cm / yr>"
      ]
     },
     "execution_count": 328,
     "metadata": {},
     "output_type": "execute_result"
    }
   ],
   "source": [
    "volcano_rate = 9*50*u.km**3/u.yr\n",
    "r_io = 1822*u.km\n",
    "surface_io = 4*np.pi*r_io**2\n",
    "\n",
    "deaging_rate = volcano_rate/surface_io\n",
    "deaging_rate.to(\"cm/yr\")    # odmładzanie w cm/yr"
   ]
  },
  {
   "cell_type": "code",
   "execution_count": 329,
   "metadata": {},
   "outputs": [
    {
     "data": {
      "text/latex": [
       "$92703.065 \\; \\mathrm{\\frac{yr}{km}}$"
      ],
      "text/plain": [
       "<Quantity 92703.06548124 yr / km>"
      ]
     },
     "execution_count": 329,
     "metadata": {},
     "output_type": "execute_result"
    }
   ],
   "source": [
    "1/deaging_rate              # ile lat na km"
   ]
  },
  {
   "cell_type": "markdown",
   "metadata": {},
   "source": [
    "## Zadanie nr 5"
   ]
  },
  {
   "cell_type": "code",
   "execution_count": 162,
   "metadata": {},
   "outputs": [
    {
     "data": {
      "text/latex": [
       "$3.5604717 \\times 10^{23} \\; \\mathrm{J}$"
      ],
      "text/plain": [
       "<Quantity 3.56047167e+23 J>"
      ]
     },
     "execution_count": 162,
     "metadata": {},
     "output_type": "execute_result"
    }
   ],
   "source": [
    "V = 20*u.km/u.s\n",
    "R = 5*u.km\n",
    "rho = 3.4*u.g/u.cm**3\n",
    "M = rho*4/3*np.pi*R**3\n",
    "E_k = (M*V**2/2).to(u.J)\n",
    "richter_factor=np.sqrt(1000)\n",
    "E_k"
   ]
  },
  {
   "cell_type": "code",
   "execution_count": 165,
   "metadata": {},
   "outputs": [
    {
     "data": {
      "text/plain": [
       "12.716324677094947"
      ]
     },
     "execution_count": 165,
     "metadata": {},
     "output_type": "execute_result"
    }
   ],
   "source": [
    "(np.log10(E_k.value) - 5.24) / 1.44 # Skala Richtera"
   ]
  },
  {
   "cell_type": "markdown",
   "metadata": {},
   "source": [
    "## Zadanie nr 6\n",
    "![orbit](orbit.png)"
   ]
  },
  {
   "cell_type": "code",
   "execution_count": 16,
   "metadata": {},
   "outputs": [
    {
     "data": {
      "text/latex": [
       "$2.7647596 \\; \\mathrm{AU}$"
      ],
      "text/plain": [
       "<Quantity 2.76475958 AU>"
      ]
     },
     "execution_count": 16,
     "metadata": {},
     "output_type": "execute_result"
    }
   ],
   "source": [
    "D=P.to(u.yr)**(2/3)\n",
    "D.value*u.au"
   ]
  },
  {
   "cell_type": "markdown",
   "metadata": {},
   "source": [
    "<font size=5>\n",
    "    $P = 76.03 d$<br>\n",
    "    $e = 0.9673$<br><br>\n",
    "    $\\frac{P^2}{a^3}=const.$ - III. prawo Keplera<br><br>\n",
    "    $R_p = a\\cdot(1-e)$"
   ]
  },
  {
   "cell_type": "code",
   "execution_count": 331,
   "metadata": {},
   "outputs": [
    {
     "data": {
      "text/latex": [
       "$0.58686437 \\; \\mathrm{AU}$"
      ],
      "text/plain": [
       "<Quantity 0.58686437 AU>"
      ]
     },
     "execution_count": 331,
     "metadata": {},
     "output_type": "execute_result"
    }
   ],
   "source": [
    "P=76.03*u.yr\n",
    "e=0.9673\n",
    "R_p = (P/u.yr)**(2/3)*u.au*(1-e)\n",
    "R_p"
   ]
  },
  {
   "cell_type": "markdown",
   "metadata": {},
   "source": [
    "## Zadanie nr 7"
   ]
  },
  {
   "cell_type": "markdown",
   "metadata": {},
   "source": [
    "<font size=5>\n",
    "    $\\frac{m\\cdot V^2}{a} = \\frac{G\\cdot M_{sun}\\cdot m}{a^2}$ $\\rightarrow$ $V(a) = \\sqrt{\\frac{G\\cdot M_{sun}}{a}}$"
   ]
  },
  {
   "cell_type": "code",
   "execution_count": null,
   "metadata": {},
   "outputs": [],
   "source": []
  }
 ],
 "metadata": {
  "kernelspec": {
   "display_name": "Python 3",
   "language": "python",
   "name": "python3"
  },
  "language_info": {
   "codemirror_mode": {
    "name": "ipython",
    "version": 3
   },
   "file_extension": ".py",
   "mimetype": "text/x-python",
   "name": "python",
   "nbconvert_exporter": "python",
   "pygments_lexer": "ipython3",
   "version": "3.8.3"
  }
 },
 "nbformat": 4,
 "nbformat_minor": 4
}
